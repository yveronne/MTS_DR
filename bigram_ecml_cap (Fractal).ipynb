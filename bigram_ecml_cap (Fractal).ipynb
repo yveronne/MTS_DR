{
 "cells": [
  {
   "cell_type": "code",
   "execution_count": 1,
   "metadata": {
    "colab": {},
    "colab_type": "code",
    "id": "HC0DNTF0BLqx"
   },
   "outputs": [],
   "source": [
    "import matplotlib.pyplot as plt\n",
    "plt.style.use('ggplot')\n",
    "\n",
    "import pandas as pd\n",
    "import numpy as np\n",
    "from timeit import default_timer as timer\n",
    "import scipy.io as sio\n",
    "from scipy.special import comb\n",
    "\n",
    "from sklearn.neighbors import KNeighborsClassifier\n",
    "from sklearn.model_selection import cross_val_score\n",
    "from sklearn.decomposition import PCA\n",
    "from sklearn.model_selection import StratifiedKFold\n",
    "from sklearn.model_selection import KFold\n",
    "from sklearn.model_selection import train_test_split\n",
    "from sklearn.metrics import accuracy_score\n",
    "\n",
    "from sklearn.svm import SVC\n",
    "from scipy.stats import expon\n",
    "from sklearn.model_selection import RandomizedSearchCV\n",
    "\n",
    "\n",
    "import ensemble_learning as el"
   ]
  },
  {
   "cell_type": "markdown",
   "metadata": {
    "colab_type": "text",
    "id": "P0wo7phzBLq9"
   },
   "source": [
    "# Functions"
   ]
  },
  {
   "cell_type": "code",
   "execution_count": 2,
   "metadata": {
    "colab": {},
    "colab_type": "code",
    "id": "UldG0q3SBLq-"
   },
   "outputs": [],
   "source": [
    "def onegramsTransform(data,dim1,dim2,minb=2,maxbh=30,cv = 5):\n",
    "    #Removing missing values and store the result in the same variable\n",
    "    data.dropna(inplace=True)\n",
    "    #Grouping data by series\n",
    "    group = data.groupby('Series')\n",
    "    #Getting the different classes\n",
    "    classe = group['classe'].apply(lambda x : x.iloc[0]).reset_index(drop=True)\n",
    "    #Providing train/test indices to split data in train/test sets. Split dataset into cv consecutive folds, and shuffling the data before it\n",
    "    kf = KFold(n_splits=cv,shuffle=True)\n",
    "    mscore = 0\n",
    "    #b1 from 2 to 29...by default\n",
    "    for b1 in range(minb,maxbh):\n",
    "        hist = group.apply(lambda x : np.ndarray.tolist(np.ndarray.flatten(\n",
    "                    np.histogram(x.iloc[:,dim1].values,bins=b1,density=True)[0])))\n",
    "        hist_tr = pd.DataFrame(hist.values.tolist())\n",
    "\n",
    "        clf= KNeighborsClassifier(1)\n",
    "        clf.fit(hist_tr, classe)\n",
    "\n",
    "        scores = cross_val_score(clf, hist_tr, classe, cv=kf)\n",
    "\n",
    "        if mscore < np.median(scores):\n",
    "            \n",
    "            mscore = np.median(scores)\n",
    "            ubh1=b1\n",
    "            \n",
    "    #print(\"Bins: \", [ubh1], \" \\nMean scores : \", mscore)       \n",
    "            \n",
    "    mscore=0\n",
    "    for b1 in range(minb,maxbh):\n",
    "        hist = group.apply(lambda x : np.ndarray.tolist(np.ndarray.flatten(\n",
    "                    np.histogram(x.iloc[:,dim2].values,bins=b1,density=True)[0])))\n",
    "        hist_tr = pd.DataFrame(hist.values.tolist())\n",
    "\n",
    "        clf=KNeighborsClassifier(1)\n",
    "        clf.fit(hist_tr, classe)\n",
    "\n",
    "        scores = cross_val_score(clf, hist_tr, classe, cv=kf)\n",
    "\n",
    "        if mscore < np.median(scores):\n",
    "            \n",
    "            mscore = np.median(scores)\n",
    "            ubh2=b1\n",
    "\n",
    "    #print(\"Bins: \", [ubh2], \" \\nMean scores : \", mscore)\n",
    "\n",
    "    return ubh1,ubh2"
   ]
  },
  {
   "cell_type": "code",
   "execution_count": 3,
   "metadata": {
    "colab": {},
    "colab_type": "code",
    "id": "VR8WMCp6BLrC"
   },
   "outputs": [],
   "source": [
    "def bigramsTransform(data,dim1,dim2,minb=2,maxb=11,cv = 5):\n",
    "    data.dropna(inplace=True)\n",
    "    group = data.groupby('Series')\n",
    "    classe = group['classe'].apply(lambda x : x.iloc[0]).reset_index(drop=True)\n",
    "    kf = KFold(n_splits=cv,shuffle=True)\n",
    "    mscore = 0\n",
    "    for b1 in range(minb,maxb):\n",
    "        for b2 in range(minb,maxb):\n",
    "            hist = group.apply(lambda x : np.ndarray.tolist(np.ndarray.flatten(\n",
    "                        np.histogram2d(x.iloc[:,dim1].values,x.iloc[:,dim2].values,bins=[b1,b2],density=True)[0])))\n",
    "            hist_tr = pd.DataFrame(hist.values.tolist())\n",
    "\n",
    "            clf= KNeighborsClassifier(1)\n",
    "            clf.fit(hist_tr, classe)\n",
    "\n",
    "            scores = cross_val_score(clf, hist_tr, classe, cv=kf)\n",
    "\n",
    "            if mscore < np.median(scores):\n",
    "                \n",
    "                mscore = np.median(scores)\n",
    "                ub1=b1\n",
    "                ub2=b2\n",
    "    #print(\"Bins: \", [ub1,ub2], \" \\nMean scores : \", mscore) \n",
    "    return ub1,ub2"
   ]
  },
  {
   "cell_type": "markdown",
   "metadata": {
    "colab_type": "text",
    "id": "AZMg3K6NBLrH"
   },
   "source": [
    "# Datasets"
   ]
  },
  {
   "cell_type": "markdown",
   "metadata": {
    "colab_type": "text",
    "id": "VIxwmaZwBLrI"
   },
   "source": [
    "### Text"
   ]
  },
  {
   "cell_type": "code",
   "execution_count": 4,
   "metadata": {
    "colab": {},
    "colab_type": "code",
    "id": "NKXt8C2fBLrJ"
   },
   "outputs": [],
   "source": [
    "dataset = [[\"ArabicDigits/ArabicDigits\",\" \"],#0\n",
    "           [\"AUSLAN/AUSLAN\",\" \",\"\\t\"],#1\n",
    "           [\"CharacterTrajectories/CharacterTrajectories\",\"\\t\"], #2          \n",
    "           [\"CMUsubject16/CMUsubject16\",\"\\t\"],#3\n",
    "           [\"ECG/ECG\",\" \"],#4\n",
    "           [\"Libras/Libras\",\" \"],#5\n",
    "           [\"PenDigits/PenDigits\",\"\\t\"],#6\n",
    "           ['UWave/uWave',\" \"],#7\n",
    "           ['RobotFailure/LP1',\" \"],#8\n",
    "           ['RobotFailure/LP2',\" \"],#9\n",
    "           ['RobotFailure/LP3',\" \"],#10\n",
    "           ['RobotFailure/LP4',\" \"],#11\n",
    "           ['RobotFailure/LP5',\" \"],#12\n",
    "           ['Wafer/Wafer',\" \"],#13\n",
    "           [\"JapaneseVowels/JapaneseVowels\", \" \"], #14\n",
    "           [\"ArticularyWordRecognition/ArticularyWordRecognition\", \" \"],#15\n",
    "           [\"BasicMotions/BasicMotions\", \" \"], #16\n",
    "           [\"Cricket/Cricket\", \" \"], #17\n",
    "           [\"DuckDuckGeese/DuckDuckGeese\", \" \"], #18\n",
    "           [\"EigenWorms/EigenWorms\", \" \"], #19\n",
    "           [\"FingerMovements/FingerMovements\", \" \"], #20\n",
    "           [\"HandMovementDirection/HandMovementDirection\", \" \"], #21\n",
    "           [\"Heartbeat/Heartbeat\", \" \"], #22\n",
    "           [\"LSST/LSST\", \" \"], #23\n",
    "           [\"MotorImagery/MotorImagery\", \" \"], #24\n",
    "           [\"NATOPS/NATOPS\", \" \"], #25\n",
    "           [\"RacketSports/RacketSports\", \" \"], #26\n",
    "           [\"SelfRegulationSCP1/SelfRegulationSCP1\", \" \"], #27\n",
    "           [\"SelfRegulationSCP2/SelfRegulationSCP2\", \" \"] #28\n",
    "              ]"
   ]
  },
  {
   "cell_type": "code",
   "execution_count": 5,
   "metadata": {
    "colab": {
     "base_uri": "https://localhost:8080/",
     "height": 449
    },
    "colab_type": "code",
    "executionInfo": {
     "elapsed": 4299,
     "status": "ok",
     "timestamp": 1593442296215,
     "user": {
      "displayName": "Véronne Yepmo",
      "photoUrl": "https://lh3.googleusercontent.com/a-/AOh14GgqH82zY4SlxjzAyvHbBobvn-Nfd4c_b3i6F_ADfA=s64",
      "userId": "01798836279637929908"
     },
     "user_tz": -120
    },
    "id": "QDyiM_6dBLrM",
    "outputId": "962abcc6-8e05-4e5f-a291-8ca12e7486de"
   },
   "outputs": [
    {
     "name": "stdout",
     "output_type": "stream",
     "text": [
      "   0     1     2         3         4         5         6         7     \\\n",
      "0     1     1     1  0.002521  0.002454  0.002432  0.002354  0.002492   \n",
      "1     1     2     1  0.000277  0.000307  0.000495  0.000382  0.000322   \n",
      "2     1     3     1  0.002852  0.002602  0.003119  0.002557  0.002850   \n",
      "3     1     4     1  0.001380  0.001546  0.001219  0.001839  0.001307   \n",
      "4     1     5     1  0.000831  0.000852  0.000850  0.001005  0.000606   \n",
      "\n",
      "       8         9     ...     1338     1339     1340      1341     1342  \\\n",
      "0  0.002612  0.002352  ...  1.04540  1.55870  1.13950  0.072909  0.33849   \n",
      "1  0.000446  0.000219  ...  0.31535  0.70458  0.73141  0.724850  0.89081   \n",
      "2  0.002831  0.002515  ...  0.21581  0.28944  0.10059  0.265610  1.14800   \n",
      "3  0.001430  0.001426  ...  0.53559  0.53612  0.12246  0.490880  0.89691   \n",
      "4  0.000983  0.000567  ...  0.46779  0.58451  0.35527  0.728630  0.40299   \n",
      "\n",
      "     1343     1344    1345     1346     1347  \n",
      "0  1.5538  3.16440  4.2111   7.4078  14.6260  \n",
      "1  1.7591  2.83790  6.6453  11.3190  14.2550  \n",
      "2  1.6512  0.93226  3.3494   1.6533   6.4533  \n",
      "3  1.9294  2.92780  6.6976   8.1303   3.2575  \n",
      "4  1.1850  0.40135  8.9214  14.2250  11.2190  \n",
      "\n",
      "[5 rows x 1348 columns]\n",
      "          3         4         5         6         7         8         9  \\\n",
      "0  0.002521  0.002454  0.002432  0.002354  0.002492  0.002612  0.002352   \n",
      "1  0.000277  0.000307  0.000495  0.000382  0.000322  0.000446  0.000219   \n",
      "2  0.002852  0.002602  0.003119  0.002557  0.002850  0.002831  0.002515   \n",
      "3  0.001380  0.001546  0.001219  0.001839  0.001307  0.001430  0.001426   \n",
      "4  0.000831  0.000852  0.000850  0.001005  0.000606  0.000983  0.000567   \n",
      "\n",
      "         10        11        12  ...     1340      1341     1342    1343  \\\n",
      "0  0.002613  0.002020  0.002725  ...  1.13950  0.072909  0.33849  1.5538   \n",
      "1  0.000524  0.000574  0.000393  ...  0.73141  0.724850  0.89081  1.7591   \n",
      "2  0.003014  0.002938  0.002510  ...  0.10059  0.265610  1.14800  1.6512   \n",
      "3  0.001719  0.001501  0.001540  ...  0.12246  0.490880  0.89691  1.9294   \n",
      "4  0.001123  0.000669  0.001115  ...  0.35527  0.728630  0.40299  1.1850   \n",
      "\n",
      "      1344    1345     1346     1347  classe  Series  \n",
      "0  3.16440  4.2111   7.4078  14.6260       1       1  \n",
      "1  2.83790  6.6453  11.3190  14.2550       1       1  \n",
      "2  0.93226  3.3494   1.6533   6.4533       1       1  \n",
      "3  2.92780  6.6976   8.1303   3.2575       1       1  \n",
      "4  0.40135  8.9214  14.2250  11.2190       1       1  \n",
      "\n",
      "[5 rows x 1347 columns]\n"
     ]
    }
   ],
   "source": [
    "i=18\n",
    "\n",
    "train = pd.read_table(\"MTS_Datasets/\"+dataset[i][0]+\"_TRAIN\",sep=dataset[i][1],header=None)\n",
    "\n",
    "\n",
    "print(train.head())\n",
    "# Renommage des 3 premières colonnes représentant resp. les numéros des STM,\n",
    "# les indices de leurs obs et leur classe\n",
    "train.rename(index=str, columns={0: \"Series\", 1: \"index\", 2:\"classe\"},inplace=True)\n",
    "#print(train.head())\n",
    "# Suppression de la colonne des index des obs des STM, infos inutiles pour les futures traitements\n",
    "# (d'où l'utilisation de inplace=True) sinon le dataframe appelant la méthode drop serait inchangé et \n",
    "# une copie modifiée serait retournée en résultat\n",
    "train.drop(['index'],axis=1,inplace=True) \n",
    "#print(train.head())\n",
    "# Suppression et sauvegarde de la colonne des classes et celle des séries\n",
    "cl = train.pop('classe') \n",
    "se = train.pop('Series')\n",
    "# Insertion des colonnes précédemment supprimées à la fin du dataframe\n",
    "train['classe'] = cl\n",
    "train['Series'] = se\n",
    "# Convertion du type des colonnes en string\n",
    "train.columns = train.columns.astype(str)\n",
    "print(train.head())\n",
    "\n",
    "\n",
    "test = pd.read_table(\"MTS_Datasets/\"+dataset[i][0]+\"_TEST\",sep=dataset[i][1],header=None)\n",
    "test.rename(index=str, columns={0: \"Series\", 1: \"index\", 2:\"classe\"},inplace=True)\n",
    "test.drop(['index'],axis=1,inplace=True)\n",
    "cl = test.pop('classe')\n",
    "se = test.pop('Series')\n",
    "test['classe'] = cl\n",
    "test['Series'] = se\n",
    "test.columns = test.columns.astype(str)"
   ]
  },
  {
   "cell_type": "markdown",
   "metadata": {
    "colab_type": "text",
    "heading_collapsed": true,
    "id": "8HgXCZpPBLrY"
   },
   "source": [
    "### Matlab"
   ]
  },
  {
   "cell_type": "code",
   "execution_count": 315,
   "metadata": {
    "colab": {},
    "colab_type": "code",
    "hidden": true,
    "id": "BzwRPnTZBLrZ"
   },
   "outputs": [],
   "source": [
    "mat = sio.loadmat('MTS_Datasets/WalkvsRun/WalkvsRun.mat')\n",
    "mdata = mat['mts']\n",
    "mdtype = mdata.dtype  \n",
    "ndata = {n: mdata[n][0, 0] for n in mdtype.names}\n",
    "columns = [n for n, v in ndata.items()]\n",
    "\n",
    "c='train'\n",
    "train = pd.DataFrame()\n",
    "for i in range(0,len(ndata[c][0])):\n",
    "    series = pd.DataFrame(np.transpose(ndata[c][0][i]))\n",
    "    series['classe']=ndata['trainlabels'][0][i]\n",
    "    series['Series']=i\n",
    "    train = pd.concat([train,series])\n",
    "train.reset_index(drop=True,inplace=True)\n",
    "\n",
    "\n",
    "c='test'\n",
    "test = pd.DataFrame()\n",
    "for i in range(0,len(ndata[c][0])):\n",
    "    series = pd.DataFrame(np.transpose(ndata[c][0][i]))\n",
    "    series['classe']=ndata['testlabels'][0][i]\n",
    "    series['Series']=i\n",
    "    test = pd.concat([test,series])\n",
    "test.reset_index(drop=True,inplace=True)"
   ]
  },
  {
   "cell_type": "code",
   "execution_count": 6,
   "metadata": {},
   "outputs": [
    {
     "name": "stdout",
     "output_type": "stream",
     "text": [
      "              3         4         5         6         7         8         9  \\\n",
      "0      0.002521  0.002454  0.002432  0.002354  0.002492  0.002612  0.002352   \n",
      "1      0.000277  0.000307  0.000495  0.000382  0.000322  0.000446  0.000219   \n",
      "2      0.002852  0.002602  0.003119  0.002557  0.002850  0.002831  0.002515   \n",
      "3      0.001380  0.001546  0.001219  0.001839  0.001307  0.001430  0.001426   \n",
      "4      0.000831  0.000852  0.000850  0.001005  0.000606  0.000983  0.000567   \n",
      "...         ...       ...       ...       ...       ...       ...       ...   \n",
      "13495  0.000342  0.000082  0.000181  0.000261  0.000176  0.000246  0.000436   \n",
      "13496  0.000188  0.000185  0.000212  0.000142  0.000195  0.000389  0.000488   \n",
      "13497  0.000208  0.000223  0.000062  0.000230  0.000119  0.000325  0.000398   \n",
      "13498  0.000196  0.000325  0.000297  0.000312  0.000135  0.000195  0.000174   \n",
      "13499  0.000609  0.000350  0.000108  0.000443  0.000163  0.000256  0.000509   \n",
      "\n",
      "             10        11        12  ...      1340      1341      1342  \\\n",
      "0      0.002613  0.002020  0.002725  ...  1.139500  0.072909  0.338490   \n",
      "1      0.000524  0.000574  0.000393  ...  0.731410  0.724850  0.890810   \n",
      "2      0.003014  0.002938  0.002510  ...  0.100590  0.265610  1.148000   \n",
      "3      0.001719  0.001501  0.001540  ...  0.122460  0.490880  0.896910   \n",
      "4      0.001123  0.000669  0.001115  ...  0.355270  0.728630  0.402990   \n",
      "...         ...       ...       ...  ...       ...       ...       ...   \n",
      "13495  0.000267  0.000631  0.000129  ...  0.105030  0.172960  0.196840   \n",
      "13496  0.000423  0.000554  0.000366  ...  0.038605  0.138300  0.214330   \n",
      "13497  0.000439  0.000441  0.000219  ...  0.048860  0.079256  0.091428   \n",
      "13498  0.000583  0.000361  0.000170  ...  0.196870  0.330250  0.482170   \n",
      "13499  0.000535  0.000433  0.000412  ...  0.189700  0.332780  0.535590   \n",
      "\n",
      "          1343     1344     1345      1346       1347  classe  Series  \n",
      "0      1.55380  3.16440  4.21110   7.40780  14.626000       1       1  \n",
      "1      1.75910  2.83790  6.64530  11.31900  14.255000       1       1  \n",
      "2      1.65120  0.93226  3.34940   1.65330   6.453300       1       1  \n",
      "3      1.92940  2.92780  6.69760   8.13030   3.257500       1       1  \n",
      "4      1.18500  0.40135  8.92140  14.22500  11.219000       1       1  \n",
      "...        ...      ...      ...       ...        ...     ...     ...  \n",
      "13495  0.22760  0.42815  0.69695   0.27823   0.162680       5      50  \n",
      "13496  0.13096  0.25521  0.50757   0.43081   0.482130       5      50  \n",
      "13497  0.17213  0.16927  0.32357   0.20695   0.377640       5      50  \n",
      "13498  0.46731  0.27389  0.36930   0.20338   0.088302       5      50  \n",
      "13499  0.44166  0.40320  0.13594   0.12058   0.038631       5      50  \n",
      "\n",
      "[13500 rows x 1347 columns]\n"
     ]
    }
   ],
   "source": [
    "print(train)"
   ]
  },
  {
   "cell_type": "markdown",
   "metadata": {
    "colab_type": "text",
    "id": "RHyLm0aMBLrh"
   },
   "source": [
    "# Pre_treatments"
   ]
  },
  {
   "cell_type": "code",
   "execution_count": 7,
   "metadata": {
    "colab": {
     "base_uri": "https://localhost:8080/",
     "height": 143
    },
    "colab_type": "code",
    "executionInfo": {
     "elapsed": 831,
     "status": "ok",
     "timestamp": 1593442310201,
     "user": {
      "displayName": "Véronne Yepmo",
      "photoUrl": "https://lh3.googleusercontent.com/a-/AOh14GgqH82zY4SlxjzAyvHbBobvn-Nfd4c_b3i6F_ADfA=s64",
      "userId": "01798836279637929908"
     },
     "user_tz": -120
    },
    "id": "9u8ikRi7BLrh",
    "outputId": "e17bc381-10ce-4b49-fc92-759915cd1ba8"
   },
   "outputs": [
    {
     "name": "stdout",
     "output_type": "stream",
     "text": [
      "1345\n",
      "          3         4         5         6         7         8         9  \\\n",
      "0  0.002521  0.002454  0.002432  0.002354  0.002492  0.002612  0.002352   \n",
      "1  0.000277  0.000307  0.000495  0.000382  0.000322  0.000446  0.000219   \n",
      "2  0.002852  0.002602  0.003119  0.002557  0.002850  0.002831  0.002515   \n",
      "3  0.001380  0.001546  0.001219  0.001839  0.001307  0.001430  0.001426   \n",
      "4  0.000831  0.000852  0.000850  0.001005  0.000606  0.000983  0.000567   \n",
      "\n",
      "         10        11        12  ...     1340      1341     1342    1343  \\\n",
      "0  0.002613  0.002020  0.002725  ...  1.13950  0.072909  0.33849  1.5538   \n",
      "1  0.000524  0.000574  0.000393  ...  0.73141  0.724850  0.89081  1.7591   \n",
      "2  0.003014  0.002938  0.002510  ...  0.10059  0.265610  1.14800  1.6512   \n",
      "3  0.001719  0.001501  0.001540  ...  0.12246  0.490880  0.89691  1.9294   \n",
      "4  0.001123  0.000669  0.001115  ...  0.35527  0.728630  0.40299  1.1850   \n",
      "\n",
      "      1344    1345     1346     1347  classe  Series  \n",
      "0  3.16440  4.2111   7.4078  14.6260       1       1  \n",
      "1  2.83790  6.6453  11.3190  14.2550       1       1  \n",
      "2  0.93226  3.3494   1.6533   6.4533       1       1  \n",
      "3  2.92780  6.6976   8.1303   3.2575       1       1  \n",
      "4  0.40135  8.9214  14.2250  11.2190       1       1  \n",
      "\n",
      "[5 rows x 1347 columns]\n"
     ]
    }
   ],
   "source": [
    "# Détermination du nbre d'instances ou observations composant (les dimensions des) les STM\n",
    "nb_col = len(train.drop(['classe','Series'],axis=1).columns)\n",
    "print(nb_col)\n",
    "print(train.head())"
   ]
  },
  {
   "cell_type": "markdown",
   "metadata": {
    "colab_type": "text",
    "id": "XIUvmNiNBLrl"
   },
   "source": [
    "## Normalisation"
   ]
  },
  {
   "cell_type": "code",
   "execution_count": 8,
   "metadata": {
    "colab": {},
    "colab_type": "code",
    "id": "URyKRM4zBLrm",
    "scrolled": true
   },
   "outputs": [],
   "source": [
    "train.iloc[:,0:nb_col] = train.groupby('Series').transform(lambda x: (x - x.min()) / (x.max()-x.min())).iloc[:,0:nb_col]\n",
    "test.iloc[:,0:nb_col] = test.groupby('Series').transform(lambda x: (x - x.min()) / (x.max()-x.min())).iloc[:,0:nb_col]"
   ]
  },
  {
   "cell_type": "code",
   "execution_count": 9,
   "metadata": {
    "colab": {
     "base_uri": "https://localhost:8080/",
     "height": 125
    },
    "colab_type": "code",
    "executionInfo": {
     "elapsed": 748,
     "status": "ok",
     "timestamp": 1593442317546,
     "user": {
      "displayName": "Véronne Yepmo",
      "photoUrl": "https://lh3.googleusercontent.com/a-/AOh14GgqH82zY4SlxjzAyvHbBobvn-Nfd4c_b3i6F_ADfA=s64",
      "userId": "01798836279637929908"
     },
     "user_tz": -120
    },
    "id": "ZAKkqB35QB95",
    "outputId": "e0765e1d-833a-428a-f6e0-7044d92577fb"
   },
   "outputs": [
    {
     "name": "stdout",
     "output_type": "stream",
     "text": [
      "          3         4         5         6         7         8         9  \\\n",
      "0  0.717889  0.660827  0.703812  0.655920  0.659297  0.717589  0.681193   \n",
      "1  0.067266  0.073091  0.135777  0.093295  0.081247  0.121387  0.057327   \n",
      "2  0.813859  0.701341  0.905279  0.713837  0.754662  0.777870  0.728868   \n",
      "3  0.387069  0.412264  0.348094  0.508987  0.343633  0.392238  0.410354   \n",
      "4  0.227892  0.222283  0.239883  0.271041  0.156899  0.269199  0.159111   \n",
      "\n",
      "         10        11        12  ...      1340      1341      1342      1343  \\\n",
      "0  0.757726  0.521977  0.788794  ...  0.627273  0.000000  0.125797  0.424176   \n",
      "1  0.148688  0.145904  0.104723  ...  0.392069  0.340441  0.339461  0.481302   \n",
      "2  0.874636  0.760728  0.725726  ...  0.028494  0.100628  0.438954  0.451278   \n",
      "3  0.497085  0.386996  0.441185  ...  0.041099  0.218263  0.341821  0.528689   \n",
      "4  0.323324  0.170611  0.316515  ...  0.175279  0.342415  0.150749  0.321555   \n",
      "\n",
      "       1344      1345      1346      1347  classe  Series  \n",
      "0  0.558970  0.263924  0.266767  0.379092       1       1  \n",
      "1  0.495913  0.426340  0.422034  0.369467       1       1  \n",
      "2  0.127879  0.206429  0.038324  0.167062       1       1  \n",
      "3  0.513276  0.429829  0.295449  0.084152       1       1  \n",
      "4  0.025344  0.578207  0.537397  0.290702       1       1  \n",
      "\n",
      "[5 rows x 1347 columns]\n"
     ]
    }
   ],
   "source": [
    "print(train.head())"
   ]
  },
  {
   "cell_type": "code",
   "execution_count": 10,
   "metadata": {
    "colab": {},
    "colab_type": "code",
    "id": "JvkrzDFJBLrq"
   },
   "outputs": [],
   "source": [
    "mask  = train.isna().all()\n",
    "\n",
    "#Drop columns where all elements are missing and keep the dataframe with valid entries in the same variable\n",
    "train.dropna(axis=1,how='all',inplace=True)\n",
    "\n",
    "train.interpolate(inplace=True)\n",
    "train.dropna(inplace=True)"
   ]
  },
  {
   "cell_type": "code",
   "execution_count": 11,
   "metadata": {
    "colab": {},
    "colab_type": "code",
    "id": "U_iC7I4uBLru"
   },
   "outputs": [],
   "source": [
    "test = test[test.columns[~mask]]\n",
    "test.dropna(axis=1,how='all',inplace=True)\n",
    "test.interpolate(inplace=True)\n",
    "train.dropna(inplace=True)"
   ]
  },
  {
   "cell_type": "code",
   "execution_count": 12,
   "metadata": {
    "colab": {
     "base_uri": "https://localhost:8080/",
     "height": 125
    },
    "colab_type": "code",
    "executionInfo": {
     "elapsed": 856,
     "status": "ok",
     "timestamp": 1593446487397,
     "user": {
      "displayName": "Véronne Yepmo",
      "photoUrl": "https://lh3.googleusercontent.com/a-/AOh14GgqH82zY4SlxjzAyvHbBobvn-Nfd4c_b3i6F_ADfA=s64",
      "userId": "01798836279637929908"
     },
     "user_tz": -120
    },
    "id": "a2T0SQlPmxuD",
    "outputId": "31a4cbad-9214-4a59-865e-be19b05e20e0"
   },
   "outputs": [
    {
     "name": "stdout",
     "output_type": "stream",
     "text": [
      "            3         4         5         6         7         8         9  \\\n",
      "0    0.717889  0.660827  0.703812  0.655920  0.659297  0.717589  0.681193   \n",
      "1    0.067266  0.073091  0.135777  0.093295  0.081247  0.121387  0.057327   \n",
      "2    0.813859  0.701341  0.905279  0.713837  0.754662  0.777870  0.728868   \n",
      "3    0.387069  0.412264  0.348094  0.508987  0.343633  0.392238  0.410354   \n",
      "4    0.227892  0.222283  0.239883  0.271041  0.156899  0.269199  0.159111   \n",
      "..        ...       ...       ...       ...       ...       ...       ...   \n",
      "266  0.491157  0.568848  0.528739  0.555207  0.537826  0.559593  0.585551   \n",
      "267  0.257466  0.145360  0.196774  0.247361  0.152371  0.175888  0.228722   \n",
      "268  0.547405  0.599507  0.741935  0.603709  0.615077  0.615469  0.605148   \n",
      "269  0.084372  0.128661  0.300293  0.126961  0.202717  0.202037  0.130155   \n",
      "270  0.049421  0.095298  0.086979  0.069651  0.089910  0.079462  0.054711   \n",
      "\n",
      "           10        11        12  ...      1340      1341      1342  \\\n",
      "0    0.757726  0.521977  0.788794  ...  0.627273  0.000000  0.125797   \n",
      "1    0.148688  0.145904  0.104723  ...  0.392069  0.340441  0.339461   \n",
      "2    0.874636  0.760728  0.725726  ...  0.028494  0.100628  0.438954   \n",
      "3    0.497085  0.386996  0.441185  ...  0.041099  0.218263  0.341821   \n",
      "4    0.323324  0.170611  0.316515  ...  0.175279  0.342415  0.150749   \n",
      "..        ...       ...       ...  ...       ...       ...       ...   \n",
      "266  0.560933  0.493368  0.537988  ...  0.221353  0.182644  0.073963   \n",
      "267  0.201458  0.126658  0.232620  ...  0.119719  0.148001  0.273975   \n",
      "268  0.681924  0.650195  0.670871  ...  0.336796  0.087823  0.213255   \n",
      "269  0.204082  0.138882  0.259020  ...  0.546404  0.316749  0.294594   \n",
      "270  0.089119  0.074054  0.083518  ...  0.079580  0.060668  0.088761   \n",
      "\n",
      "         1343      1344      1345      1346      1347  classe  Series  \n",
      "0    0.424176  0.558970  0.263924  0.266767  0.379092       1       1  \n",
      "1    0.481302  0.495913  0.426340  0.422034  0.369467       1       1  \n",
      "2    0.451278  0.127879  0.206429  0.038324  0.167062       1       1  \n",
      "3    0.528689  0.513276  0.429829  0.295449  0.084152       1       1  \n",
      "4    0.321555  0.025344  0.578207  0.537397  0.290702       1       1  \n",
      "..        ...       ...       ...       ...       ...     ...     ...  \n",
      "266  0.270551  0.191291  0.121851  0.175421  0.024279       1       1  \n",
      "267  0.163698  0.073034  0.048152  0.103707  0.165103       1       1  \n",
      "268  0.365102  0.319625  0.147726  0.173619  0.214357       1       1  \n",
      "269  0.203653  0.274877  0.067719  0.096097  0.123360       1       1  \n",
      "270  0.088069  0.136431  0.107472  0.274949  0.419713       1       2  \n",
      "\n",
      "[271 rows x 1347 columns]\n"
     ]
    }
   ],
   "source": [
    "print(train.head(271))"
   ]
  },
  {
   "cell_type": "markdown",
   "metadata": {
    "colab_type": "text",
    "id": "FFQLVuV-BLrx"
   },
   "source": [
    "## Corr coeff"
   ]
  },
  {
   "cell_type": "code",
   "execution_count": 13,
   "metadata": {
    "colab": {},
    "colab_type": "code",
    "id": "SZI8HT2PBLrx"
   },
   "outputs": [
    {
     "name": "stdout",
     "output_type": "stream",
     "text": [
      "             10        12        15        36        38        42        43  \\\n",
      "0      0.757726  0.788794  0.710935  0.712296  0.704155  0.614065  0.794956   \n",
      "1      0.148688  0.104723  0.105541  0.121442  0.003436  0.045169  0.067982   \n",
      "2      0.874636  0.725726  0.761360  0.944579  0.892221  0.803888  0.712719   \n",
      "3      0.497085  0.441185  0.379947  0.460024  0.407998  0.378788  0.415022   \n",
      "4      0.323324  0.316515  0.392554  0.288007  0.278975  0.338765  0.144737   \n",
      "...         ...       ...       ...       ...       ...       ...       ...   \n",
      "13495  0.016534  0.005645  0.042290  0.014264  0.016466  0.010814  0.012917   \n",
      "13496  0.027651  0.022370  0.038753  0.024139  0.016103  0.016686  0.008661   \n",
      "13497  0.028791  0.011996  0.019377  0.010826  0.029015  0.019335  0.011743   \n",
      "13498  0.039054  0.008539  0.011641  0.015434  0.019803  0.020123  0.027009   \n",
      "13499  0.035633  0.025616  0.008546  0.022237  0.019077  0.007018  0.011450   \n",
      "\n",
      "             46        50        53  ...      1322      1341      1342  \\\n",
      "0      0.841542  0.591339  0.690240  ...  0.257137  0.000000  0.125797   \n",
      "1      0.079391  0.106824  0.015397  ...  0.423460  0.340441  0.339461   \n",
      "2      0.995787  0.724934  0.762526  ...  0.776891  0.100628  0.438954   \n",
      "3      0.484446  0.396063  0.363779  ...  0.642933  0.218263  0.341821   \n",
      "4      0.219054  0.197375  0.224165  ...  0.290560  0.342415  0.150749   \n",
      "...         ...       ...       ...  ...       ...       ...       ...   \n",
      "13495  0.004245  0.016801  0.006578  ...  0.229252  0.387627  0.359022   \n",
      "13496  0.021375  0.000293  0.016231  ...  0.573168  0.306299  0.392116   \n",
      "13497  0.024950  0.007337  0.005720  ...  0.606432  0.167756  0.159562   \n",
      "13498  0.009235  0.012032  0.010940  ...  0.204071  0.756698  0.898919   \n",
      "13499  0.025546  0.002128  0.002574  ...  0.266744  0.762634  1.000000   \n",
      "\n",
      "           1343      1344      1345      1346      1347  classe  Series  \n",
      "0      0.424176  0.558970  0.263924  0.266767  0.379092       1       1  \n",
      "1      0.481302  0.495913  0.426340  0.422034  0.369467       1       1  \n",
      "2      0.451278  0.127879  0.206429  0.038324  0.167062       1       1  \n",
      "3      0.528689  0.513276  0.429829  0.295449  0.084152       1       1  \n",
      "4      0.321555  0.025344  0.578207  0.537397  0.290702       1       1  \n",
      "...         ...       ...       ...       ...       ...     ...     ...  \n",
      "13495  0.402038  0.571788  1.000000  0.551801  0.301701       5      50  \n",
      "13496  0.229647  0.332469  0.723391  0.865398  0.899508       5      50  \n",
      "13497  0.303088  0.213543  0.454639  0.405299  0.703969       5      50  \n",
      "13498  0.829643  0.358319  0.521433  0.397962  0.162513       5      50  \n",
      "13499  0.783887  0.537262  0.180586  0.227783  0.069560       5      50  \n",
      "\n",
      "[13500 rows x 239 columns]\n",
      "237\n",
      "Nombre de M-histogrammes :  167796\n",
      "*****************************\n",
      "Apprentissage:  0\n",
      "*****************************\n"
     ]
    },
    {
     "ename": "KeyboardInterrupt",
     "evalue": "",
     "output_type": "error",
     "traceback": [
      "\u001b[0;31m---------------------------------------------------------------------------\u001b[0m",
      "\u001b[0;31mKeyboardInterrupt\u001b[0m                         Traceback (most recent call last)",
      "\u001b[0;32m<ipython-input-13-967e25fc9668>\u001b[0m in \u001b[0;36m<module>\u001b[0;34m\u001b[0m\n\u001b[1;32m    119\u001b[0m             \u001b[0mtrain_nngrams\u001b[0m\u001b[0;34m.\u001b[0m\u001b[0mappend\u001b[0m\u001b[0;34m(\u001b[0m\u001b[0mh1htr\u001b[0m\u001b[0;34m)\u001b[0m\u001b[0;34m\u001b[0m\u001b[0;34m\u001b[0m\u001b[0m\n\u001b[1;32m    120\u001b[0m \u001b[0;34m\u001b[0m\u001b[0m\n\u001b[0;32m--> 121\u001b[0;31m             h2htr = train_group.apply(lambda x : np.ndarray.tolist(np.ndarray.flatten(\n\u001b[0m\u001b[1;32m    122\u001b[0m                         np.histogram(x.iloc[:,dim2].values,bins=ub2h,density=True)[0])))\n\u001b[1;32m    123\u001b[0m             \u001b[0mh2htr\u001b[0m \u001b[0;34m=\u001b[0m \u001b[0mpd\u001b[0m\u001b[0;34m.\u001b[0m\u001b[0mDataFrame\u001b[0m\u001b[0;34m(\u001b[0m\u001b[0mh2htr\u001b[0m\u001b[0;34m.\u001b[0m\u001b[0mvalues\u001b[0m\u001b[0;34m.\u001b[0m\u001b[0mtolist\u001b[0m\u001b[0;34m(\u001b[0m\u001b[0;34m)\u001b[0m\u001b[0;34m)\u001b[0m\u001b[0;34m\u001b[0m\u001b[0;34m\u001b[0m\u001b[0m\n",
      "\u001b[0;32m~/anaconda3/lib/python3.7/site-packages/pandas/core/groupby/groupby.py\u001b[0m in \u001b[0;36mapply\u001b[0;34m(self, func, *args, **kwargs)\u001b[0m\n\u001b[1;32m    733\u001b[0m         \u001b[0;32mwith\u001b[0m \u001b[0moption_context\u001b[0m\u001b[0;34m(\u001b[0m\u001b[0;34m\"mode.chained_assignment\"\u001b[0m\u001b[0;34m,\u001b[0m \u001b[0;32mNone\u001b[0m\u001b[0;34m)\u001b[0m\u001b[0;34m:\u001b[0m\u001b[0;34m\u001b[0m\u001b[0;34m\u001b[0m\u001b[0m\n\u001b[1;32m    734\u001b[0m             \u001b[0;32mtry\u001b[0m\u001b[0;34m:\u001b[0m\u001b[0;34m\u001b[0m\u001b[0;34m\u001b[0m\u001b[0m\n\u001b[0;32m--> 735\u001b[0;31m                 \u001b[0mresult\u001b[0m \u001b[0;34m=\u001b[0m \u001b[0mself\u001b[0m\u001b[0;34m.\u001b[0m\u001b[0m_python_apply_general\u001b[0m\u001b[0;34m(\u001b[0m\u001b[0mf\u001b[0m\u001b[0;34m)\u001b[0m\u001b[0;34m\u001b[0m\u001b[0;34m\u001b[0m\u001b[0m\n\u001b[0m\u001b[1;32m    736\u001b[0m             \u001b[0;32mexcept\u001b[0m \u001b[0mTypeError\u001b[0m\u001b[0;34m:\u001b[0m\u001b[0;34m\u001b[0m\u001b[0;34m\u001b[0m\u001b[0m\n\u001b[1;32m    737\u001b[0m                 \u001b[0;31m# gh-20949\u001b[0m\u001b[0;34m\u001b[0m\u001b[0;34m\u001b[0m\u001b[0;34m\u001b[0m\u001b[0m\n",
      "\u001b[0;32m~/anaconda3/lib/python3.7/site-packages/pandas/core/groupby/groupby.py\u001b[0m in \u001b[0;36m_python_apply_general\u001b[0;34m(self, f)\u001b[0m\n\u001b[1;32m    749\u001b[0m \u001b[0;34m\u001b[0m\u001b[0m\n\u001b[1;32m    750\u001b[0m     \u001b[0;32mdef\u001b[0m \u001b[0m_python_apply_general\u001b[0m\u001b[0;34m(\u001b[0m\u001b[0mself\u001b[0m\u001b[0;34m,\u001b[0m \u001b[0mf\u001b[0m\u001b[0;34m)\u001b[0m\u001b[0;34m:\u001b[0m\u001b[0;34m\u001b[0m\u001b[0;34m\u001b[0m\u001b[0m\n\u001b[0;32m--> 751\u001b[0;31m         \u001b[0mkeys\u001b[0m\u001b[0;34m,\u001b[0m \u001b[0mvalues\u001b[0m\u001b[0;34m,\u001b[0m \u001b[0mmutated\u001b[0m \u001b[0;34m=\u001b[0m \u001b[0mself\u001b[0m\u001b[0;34m.\u001b[0m\u001b[0mgrouper\u001b[0m\u001b[0;34m.\u001b[0m\u001b[0mapply\u001b[0m\u001b[0;34m(\u001b[0m\u001b[0mf\u001b[0m\u001b[0;34m,\u001b[0m \u001b[0mself\u001b[0m\u001b[0;34m.\u001b[0m\u001b[0m_selected_obj\u001b[0m\u001b[0;34m,\u001b[0m \u001b[0mself\u001b[0m\u001b[0;34m.\u001b[0m\u001b[0maxis\u001b[0m\u001b[0;34m)\u001b[0m\u001b[0;34m\u001b[0m\u001b[0;34m\u001b[0m\u001b[0m\n\u001b[0m\u001b[1;32m    752\u001b[0m \u001b[0;34m\u001b[0m\u001b[0m\n\u001b[1;32m    753\u001b[0m         return self._wrap_applied_output(\n",
      "\u001b[0;32m~/anaconda3/lib/python3.7/site-packages/pandas/core/groupby/ops.py\u001b[0m in \u001b[0;36mapply\u001b[0;34m(self, f, data, axis)\u001b[0m\n\u001b[1;32m    155\u001b[0m         \u001b[0mresult_values\u001b[0m \u001b[0;34m=\u001b[0m \u001b[0;32mNone\u001b[0m\u001b[0;34m\u001b[0m\u001b[0;34m\u001b[0m\u001b[0m\n\u001b[1;32m    156\u001b[0m \u001b[0;34m\u001b[0m\u001b[0m\n\u001b[0;32m--> 157\u001b[0;31m         \u001b[0msdata\u001b[0m\u001b[0;34m:\u001b[0m \u001b[0mFrameOrSeries\u001b[0m \u001b[0;34m=\u001b[0m \u001b[0msplitter\u001b[0m\u001b[0;34m.\u001b[0m\u001b[0m_get_sorted_data\u001b[0m\u001b[0;34m(\u001b[0m\u001b[0;34m)\u001b[0m\u001b[0;34m\u001b[0m\u001b[0;34m\u001b[0m\u001b[0m\n\u001b[0m\u001b[1;32m    158\u001b[0m         \u001b[0;32mif\u001b[0m \u001b[0msdata\u001b[0m\u001b[0;34m.\u001b[0m\u001b[0mndim\u001b[0m \u001b[0;34m==\u001b[0m \u001b[0;36m2\u001b[0m \u001b[0;32mand\u001b[0m \u001b[0mnp\u001b[0m\u001b[0;34m.\u001b[0m\u001b[0many\u001b[0m\u001b[0;34m(\u001b[0m\u001b[0msdata\u001b[0m\u001b[0;34m.\u001b[0m\u001b[0mdtypes\u001b[0m\u001b[0;34m.\u001b[0m\u001b[0mapply\u001b[0m\u001b[0;34m(\u001b[0m\u001b[0mis_extension_array_dtype\u001b[0m\u001b[0;34m)\u001b[0m\u001b[0;34m)\u001b[0m\u001b[0;34m:\u001b[0m\u001b[0;34m\u001b[0m\u001b[0;34m\u001b[0m\u001b[0m\n\u001b[1;32m    159\u001b[0m             \u001b[0;31m# calling splitter.fast_apply will raise TypeError via apply_frame_axis0\u001b[0m\u001b[0;34m\u001b[0m\u001b[0;34m\u001b[0m\u001b[0;34m\u001b[0m\u001b[0m\n",
      "\u001b[0;32m~/anaconda3/lib/python3.7/site-packages/pandas/core/groupby/ops.py\u001b[0m in \u001b[0;36m_get_sorted_data\u001b[0;34m(self)\u001b[0m\n\u001b[1;32m    912\u001b[0m \u001b[0;34m\u001b[0m\u001b[0m\n\u001b[1;32m    913\u001b[0m     \u001b[0;32mdef\u001b[0m \u001b[0m_get_sorted_data\u001b[0m\u001b[0;34m(\u001b[0m\u001b[0mself\u001b[0m\u001b[0;34m)\u001b[0m \u001b[0;34m->\u001b[0m \u001b[0mFrameOrSeries\u001b[0m\u001b[0;34m:\u001b[0m\u001b[0;34m\u001b[0m\u001b[0;34m\u001b[0m\u001b[0m\n\u001b[0;32m--> 914\u001b[0;31m         \u001b[0;32mreturn\u001b[0m \u001b[0mself\u001b[0m\u001b[0;34m.\u001b[0m\u001b[0mdata\u001b[0m\u001b[0;34m.\u001b[0m\u001b[0mtake\u001b[0m\u001b[0;34m(\u001b[0m\u001b[0mself\u001b[0m\u001b[0;34m.\u001b[0m\u001b[0msort_idx\u001b[0m\u001b[0;34m,\u001b[0m \u001b[0maxis\u001b[0m\u001b[0;34m=\u001b[0m\u001b[0mself\u001b[0m\u001b[0;34m.\u001b[0m\u001b[0maxis\u001b[0m\u001b[0;34m)\u001b[0m\u001b[0;34m\u001b[0m\u001b[0;34m\u001b[0m\u001b[0m\n\u001b[0m\u001b[1;32m    915\u001b[0m \u001b[0;34m\u001b[0m\u001b[0m\n\u001b[1;32m    916\u001b[0m     \u001b[0;32mdef\u001b[0m \u001b[0m_chop\u001b[0m\u001b[0;34m(\u001b[0m\u001b[0mself\u001b[0m\u001b[0;34m,\u001b[0m \u001b[0msdata\u001b[0m\u001b[0;34m,\u001b[0m \u001b[0mslice_obj\u001b[0m\u001b[0;34m:\u001b[0m \u001b[0mslice\u001b[0m\u001b[0;34m)\u001b[0m \u001b[0;34m->\u001b[0m \u001b[0mNDFrame\u001b[0m\u001b[0;34m:\u001b[0m\u001b[0;34m\u001b[0m\u001b[0;34m\u001b[0m\u001b[0m\n",
      "\u001b[0;32m~/anaconda3/lib/python3.7/site-packages/pandas/core/generic.py\u001b[0m in \u001b[0;36mtake\u001b[0;34m(self, indices, axis, is_copy, **kwargs)\u001b[0m\n\u001b[1;32m   3393\u001b[0m \u001b[0;34m\u001b[0m\u001b[0m\n\u001b[1;32m   3394\u001b[0m         new_data = self._data.take(\n\u001b[0;32m-> 3395\u001b[0;31m             \u001b[0mindices\u001b[0m\u001b[0;34m,\u001b[0m \u001b[0maxis\u001b[0m\u001b[0;34m=\u001b[0m\u001b[0mself\u001b[0m\u001b[0;34m.\u001b[0m\u001b[0m_get_block_manager_axis\u001b[0m\u001b[0;34m(\u001b[0m\u001b[0maxis\u001b[0m\u001b[0;34m)\u001b[0m\u001b[0;34m,\u001b[0m \u001b[0mverify\u001b[0m\u001b[0;34m=\u001b[0m\u001b[0;32mTrue\u001b[0m\u001b[0;34m\u001b[0m\u001b[0;34m\u001b[0m\u001b[0m\n\u001b[0m\u001b[1;32m   3396\u001b[0m         )\n\u001b[1;32m   3397\u001b[0m         \u001b[0;32mreturn\u001b[0m \u001b[0mself\u001b[0m\u001b[0;34m.\u001b[0m\u001b[0m_constructor\u001b[0m\u001b[0;34m(\u001b[0m\u001b[0mnew_data\u001b[0m\u001b[0;34m)\u001b[0m\u001b[0;34m.\u001b[0m\u001b[0m__finalize__\u001b[0m\u001b[0;34m(\u001b[0m\u001b[0mself\u001b[0m\u001b[0;34m)\u001b[0m\u001b[0;34m\u001b[0m\u001b[0;34m\u001b[0m\u001b[0m\n",
      "\u001b[0;32m~/anaconda3/lib/python3.7/site-packages/pandas/core/internals/managers.py\u001b[0m in \u001b[0;36mtake\u001b[0;34m(self, indexer, axis, verify, convert)\u001b[0m\n\u001b[1;32m   1392\u001b[0m         \u001b[0mnew_labels\u001b[0m \u001b[0;34m=\u001b[0m \u001b[0mself\u001b[0m\u001b[0;34m.\u001b[0m\u001b[0maxes\u001b[0m\u001b[0;34m[\u001b[0m\u001b[0maxis\u001b[0m\u001b[0;34m]\u001b[0m\u001b[0;34m.\u001b[0m\u001b[0mtake\u001b[0m\u001b[0;34m(\u001b[0m\u001b[0mindexer\u001b[0m\u001b[0;34m)\u001b[0m\u001b[0;34m\u001b[0m\u001b[0;34m\u001b[0m\u001b[0m\n\u001b[1;32m   1393\u001b[0m         return self.reindex_indexer(\n\u001b[0;32m-> 1394\u001b[0;31m             \u001b[0mnew_axis\u001b[0m\u001b[0;34m=\u001b[0m\u001b[0mnew_labels\u001b[0m\u001b[0;34m,\u001b[0m \u001b[0mindexer\u001b[0m\u001b[0;34m=\u001b[0m\u001b[0mindexer\u001b[0m\u001b[0;34m,\u001b[0m \u001b[0maxis\u001b[0m\u001b[0;34m=\u001b[0m\u001b[0maxis\u001b[0m\u001b[0;34m,\u001b[0m \u001b[0mallow_dups\u001b[0m\u001b[0;34m=\u001b[0m\u001b[0;32mTrue\u001b[0m\u001b[0;34m\u001b[0m\u001b[0;34m\u001b[0m\u001b[0m\n\u001b[0m\u001b[1;32m   1395\u001b[0m         )\n\u001b[1;32m   1396\u001b[0m \u001b[0;34m\u001b[0m\u001b[0m\n",
      "\u001b[0;32m~/anaconda3/lib/python3.7/site-packages/pandas/core/internals/managers.py\u001b[0m in \u001b[0;36mreindex_indexer\u001b[0;34m(self, new_axis, indexer, axis, fill_value, allow_dups, copy)\u001b[0m\n\u001b[1;32m   1265\u001b[0m                     ),\n\u001b[1;32m   1266\u001b[0m                 )\n\u001b[0;32m-> 1267\u001b[0;31m                 \u001b[0;32mfor\u001b[0m \u001b[0mblk\u001b[0m \u001b[0;32min\u001b[0m \u001b[0mself\u001b[0m\u001b[0;34m.\u001b[0m\u001b[0mblocks\u001b[0m\u001b[0;34m\u001b[0m\u001b[0;34m\u001b[0m\u001b[0m\n\u001b[0m\u001b[1;32m   1268\u001b[0m             ]\n\u001b[1;32m   1269\u001b[0m \u001b[0;34m\u001b[0m\u001b[0m\n",
      "\u001b[0;32m~/anaconda3/lib/python3.7/site-packages/pandas/core/internals/managers.py\u001b[0m in \u001b[0;36m<listcomp>\u001b[0;34m(.0)\u001b[0m\n\u001b[1;32m   1265\u001b[0m                     ),\n\u001b[1;32m   1266\u001b[0m                 )\n\u001b[0;32m-> 1267\u001b[0;31m                 \u001b[0;32mfor\u001b[0m \u001b[0mblk\u001b[0m \u001b[0;32min\u001b[0m \u001b[0mself\u001b[0m\u001b[0;34m.\u001b[0m\u001b[0mblocks\u001b[0m\u001b[0;34m\u001b[0m\u001b[0;34m\u001b[0m\u001b[0m\n\u001b[0m\u001b[1;32m   1268\u001b[0m             ]\n\u001b[1;32m   1269\u001b[0m \u001b[0;34m\u001b[0m\u001b[0m\n",
      "\u001b[0;32m~/anaconda3/lib/python3.7/site-packages/pandas/core/internals/blocks.py\u001b[0m in \u001b[0;36mtake_nd\u001b[0;34m(self, indexer, axis, new_mgr_locs, fill_tuple)\u001b[0m\n\u001b[1;32m   1289\u001b[0m \u001b[0;34m\u001b[0m\u001b[0m\n\u001b[1;32m   1290\u001b[0m         new_values = algos.take_nd(\n\u001b[0;32m-> 1291\u001b[0;31m             \u001b[0mvalues\u001b[0m\u001b[0;34m,\u001b[0m \u001b[0mindexer\u001b[0m\u001b[0;34m,\u001b[0m \u001b[0maxis\u001b[0m\u001b[0;34m=\u001b[0m\u001b[0maxis\u001b[0m\u001b[0;34m,\u001b[0m \u001b[0mallow_fill\u001b[0m\u001b[0;34m=\u001b[0m\u001b[0mallow_fill\u001b[0m\u001b[0;34m,\u001b[0m \u001b[0mfill_value\u001b[0m\u001b[0;34m=\u001b[0m\u001b[0mfill_value\u001b[0m\u001b[0;34m\u001b[0m\u001b[0;34m\u001b[0m\u001b[0m\n\u001b[0m\u001b[1;32m   1292\u001b[0m         )\n\u001b[1;32m   1293\u001b[0m \u001b[0;34m\u001b[0m\u001b[0m\n",
      "\u001b[0;32m~/anaconda3/lib/python3.7/site-packages/pandas/core/algorithms.py\u001b[0m in \u001b[0;36mtake_nd\u001b[0;34m(arr, indexer, axis, out, fill_value, allow_fill)\u001b[0m\n\u001b[1;32m   1660\u001b[0m         \u001b[0marr\u001b[0m\u001b[0;34m.\u001b[0m\u001b[0mndim\u001b[0m\u001b[0;34m,\u001b[0m \u001b[0marr\u001b[0m\u001b[0;34m.\u001b[0m\u001b[0mdtype\u001b[0m\u001b[0;34m,\u001b[0m \u001b[0mout\u001b[0m\u001b[0;34m.\u001b[0m\u001b[0mdtype\u001b[0m\u001b[0;34m,\u001b[0m \u001b[0maxis\u001b[0m\u001b[0;34m=\u001b[0m\u001b[0maxis\u001b[0m\u001b[0;34m,\u001b[0m \u001b[0mmask_info\u001b[0m\u001b[0;34m=\u001b[0m\u001b[0mmask_info\u001b[0m\u001b[0;34m\u001b[0m\u001b[0;34m\u001b[0m\u001b[0m\n\u001b[1;32m   1661\u001b[0m     )\n\u001b[0;32m-> 1662\u001b[0;31m     \u001b[0mfunc\u001b[0m\u001b[0;34m(\u001b[0m\u001b[0marr\u001b[0m\u001b[0;34m,\u001b[0m \u001b[0mindexer\u001b[0m\u001b[0;34m,\u001b[0m \u001b[0mout\u001b[0m\u001b[0;34m,\u001b[0m \u001b[0mfill_value\u001b[0m\u001b[0;34m)\u001b[0m\u001b[0;34m\u001b[0m\u001b[0;34m\u001b[0m\u001b[0m\n\u001b[0m\u001b[1;32m   1663\u001b[0m \u001b[0;34m\u001b[0m\u001b[0m\n\u001b[1;32m   1664\u001b[0m     \u001b[0;32mif\u001b[0m \u001b[0mflip_order\u001b[0m\u001b[0;34m:\u001b[0m\u001b[0;34m\u001b[0m\u001b[0;34m\u001b[0m\u001b[0m\n",
      "\u001b[0;31mKeyboardInterrupt\u001b[0m: "
     ]
    }
   ],
   "source": [
    "start = timer()\n",
    "\n",
    "# Suppression des dimensions corrélées\n",
    "\n",
    "to_keep = np.array([7, 9, 12, 33, 35, 39, 40, 43, 47, 50, 51, 52, 55, 84, 86, 88, 114, 115, 116, 117, 118, 119, 144, 145, 146, 147, 148, 149, 177, 178, 179, 205, 206, 207, 208, 209, 235, 236, 237, 238, 239, 263, 264, 265, 266, 267, 268, 269, 292, 293, 294, 295, 296, 297, 298, 299, 326, 327, 328, 329, 358, 359, 388, 389, 419, 420, 421, 422, 423, 424, 425, 426, 427, 428, 429, 430, 431, 432, 433, 434, 435, 436, 437, 438, 439, 440, 441, 442, 443, 444, 445, 446, 447, 448, 449, 476, 477, 478, 479, 507, 508, 509, 535, 536, 537, 538, 539, 564, 565, 566, 567, 568, 569, 595, 596, 597, 598, 599, 622, 623, 624, 625, 626, 627, 628, 629, 651, 652, 653, 654, 655, 656, 657, 658, 659, 680, 681, 682, 683, 684, 685, 686, 687, 688, 689, 707, 708, 709, 710, 711, 712, 713, 714, 715, 716, 717, 718, 719, 739, 740, 741, 742, 743, 744, 745, 746, 747, 748, 749, 770, 771, 772, 773, 774, 775, 776, 777, 778, 779, 803, 804, 805, 806, 807, 808, 809, 833, 834, 835, 836, 837, 838, 839, 866, 867, 868, 869, 894, 895, 896, 897, 898, 899, 926, 927, 928, 929, 953, 954, 955, 956, 957, 958, 959, 988, 989, 1017, 1018, 1019, 1047, 1048, 1049, 1078, 1079, 1107, 1108, 1109, 1288, 1289, 1319, 1338, 1339, 1340, 1341, 1342, 1343, 1344])\n",
    "\n",
    "train = pd.concat([train.iloc[:, to_keep], train[[\"classe\", \"Series\"]]], axis=1)\n",
    "test = pd.concat([test.iloc[:, to_keep], test[[\"classe\",\"Series\"]]], axis=1)\n",
    "\n",
    "print(train)\n",
    "\n",
    "nb_col = len(train.drop(['classe','Series'],axis=1).columns)\n",
    "print(nb_col)\n",
    "\n",
    "# Calcul de la dérivée et de la somme cumulée\n",
    "deriv = train.groupby('Series').transform(lambda x: x.diff()).iloc[:,0:nb_col]\n",
    "\n",
    "cumsum = train.groupby('Series').transform(lambda x: x.cumsum()).iloc[:,0:nb_col]\n",
    "\n",
    "data = pd.concat([train.iloc[:,0:nb_col],deriv,cumsum],axis=1)\n",
    "data.columns = np.linspace(0,3*nb_col,3*nb_col,dtype=int)\n",
    "\n",
    "train = pd.concat([data,train[['classe','Series']]], axis=1)\n",
    "train.dropna(inplace=True)\n",
    "\n",
    "#print(train)\n",
    "\n",
    "deriv = test.groupby('Series').transform(lambda x: x.diff()).iloc[:,0:nb_col]\n",
    "\n",
    "cumsum = test.groupby('Series').transform(lambda x: x.cumsum()).iloc[:,0:nb_col]\n",
    "\n",
    "data = pd.concat([test.iloc[:,0:nb_col],deriv,cumsum],axis=1)\n",
    "data.columns = np.linspace(0,3*nb_col,3*nb_col,dtype=int)\n",
    "\n",
    "test = pd.concat([test.iloc[:,0:nb_col],deriv,cumsum,test[['classe','Series']]],\n",
    "          axis=1)\n",
    "test.dropna(inplace=True)\n",
    "\n",
    "#print(test)\n",
    "\n",
    "\n",
    "####### M-histogramme #########\n",
    "\n",
    "# Paramètres\n",
    "max_comb = comb(nb_col,2)*3*2\n",
    "#percent = 0.25\n",
    "percent = 1\n",
    "nb_features = int(np.round(max_comb*percent))\n",
    "\n",
    "print(\"Nombre de M-histogrammes : \",nb_features)\n",
    "\n",
    "eval_int = 0\n",
    "# Apprentissage vue\n",
    "for app in range(0,4):\n",
    "    print(\"*****************************\")\n",
    "    print(\"Apprentissage: \",app)\n",
    "    print(\"*****************************\")\n",
    "    train_nngrams = list() #Liste des M-Histogrammes de l'ensemble d'apprentissage pour chaque vue\n",
    "    test_nngrams = list() #Liste des M-Histogrammes de l'ensemble de test\n",
    "    learners = list()\n",
    "    combin=list()           #Liste des combinaisons dim1+dim2+TypeHistogramme\n",
    "    \n",
    "    # Apprentissage M-histogramme\n",
    "    i=0\n",
    "    while i <nb_features and i<max_comb :\n",
    "        #if i%5==0:\n",
    "            #print(\"*****************************\")\n",
    "            #print(\"TOUR : \",i)\n",
    "            #print(\"*****************************\")\n",
    "        # Choosing : Dimensional features ||  Simple, Deriv or Cumsum ||  Bigrams or 1grams \n",
    "        dim1rand = np.random.randint(0,nb_col)\n",
    "        dim2rand = np.random.randint(0,nb_col)\n",
    "        while dim2rand == dim1rand :\n",
    "            dim2rand = np.random.randint(0,nb_col)\n",
    "\n",
    "\n",
    "        transform = np.random.randint(0,3)\n",
    "        dim1 = dim1rand+transform*nb_col\n",
    "        dim2 = dim2rand+transform*nb_col\n",
    "\n",
    "        nngrams = np.random.randint(0,2)    \n",
    "\n",
    "        #print(\"Dim1 : \",dim1,\"   Dim2 : \",dim2,\"    NNGrams: \",nngrams)\n",
    "\n",
    "        if [dim1,dim2,nngrams] in combin or [dim2,dim1,nngrams] in combin : \n",
    "            continue\n",
    "        else :\n",
    "            combin.append([dim1,dim2,nngrams]) \n",
    "            i+=1\n",
    "\n",
    "        if nngrams == 0:\n",
    "\n",
    "            ub1,ub2 = bigramsTransform(train.copy(),dim1,dim2)\n",
    "\n",
    "            train_group = train.groupby('Series')        \n",
    "            htr = train_group.apply(lambda x : np.ndarray.tolist(np.ndarray.flatten(\n",
    "                        np.histogram2d(x.iloc[:,dim1].values,x.iloc[:,dim2].values,bins=[ub1,ub2],density=True)[0])))\n",
    "            htr = pd.DataFrame(htr.values.tolist())\n",
    "            train_nngrams.append(htr)\n",
    "\n",
    "\n",
    "            test_group = test.groupby('Series')\n",
    "            htt = test_group.apply(lambda x : np.ndarray.tolist(np.ndarray.flatten(\n",
    "                        np.histogram2d(x.iloc[:,dim1].values,x.iloc[:,dim2].values,bins=[ub1,ub2],density=True)[0])))\n",
    "            htt = pd.DataFrame(htt.values.tolist())\n",
    "            test_nngrams.append(htt)\n",
    "\n",
    "            learners.append(('clf',KNeighborsClassifier(1)))\n",
    "\n",
    "\n",
    "        else :\n",
    "\n",
    "            ub1h,ub2h = onegramsTransform(train.copy(),dim1,dim2) \n",
    "\n",
    "            train_group = train.groupby('Series')\n",
    "            h1htr = train_group.apply(lambda x : np.ndarray.tolist(np.ndarray.flatten(\n",
    "                        np.histogram(x.iloc[:,dim1].values,bins=ub1h,density=True)[0])))\n",
    "            h1htr = pd.DataFrame(h1htr.values.tolist())\n",
    "            train_nngrams.append(h1htr)\n",
    "\n",
    "            h2htr = train_group.apply(lambda x : np.ndarray.tolist(np.ndarray.flatten(\n",
    "                        np.histogram(x.iloc[:,dim2].values,bins=ub2h,density=True)[0])))\n",
    "            h2htr = pd.DataFrame(h2htr.values.tolist())\n",
    "            train_nngrams.append(h2htr)\n",
    "\n",
    "\n",
    "            test_group = test.groupby('Series')\n",
    "            h1htt = test_group.apply(lambda x : np.ndarray.tolist(np.ndarray.flatten(\n",
    "                        np.histogram(x.iloc[:,dim1].values,bins=ub1h,density=True)[0])))\n",
    "            h1htt = pd.DataFrame(h1htt.values.tolist())\n",
    "            test_nngrams.append(h1htt)\n",
    "\n",
    "            h2htt = test_group.apply(lambda x : np.ndarray.tolist(np.ndarray.flatten(\n",
    "                        np.histogram(x.iloc[:,dim2].values,bins=ub2h,density=True)[0])))\n",
    "            h2htt = pd.DataFrame(h2htt.values.tolist())\n",
    "            test_nngrams.append(h2htt)\n",
    "\n",
    "            learners.append(('clf',KNeighborsClassifier(1)))\n",
    "            learners.append(('clf',KNeighborsClassifier(1)))\n",
    "\n",
    "    # Score en validation\n",
    "    cl = train_group['classe'].apply(lambda x : x.iloc[0]).reset_index(drop=True) #Liste des classes pour chaque série, en ordre\n",
    "    se = np.arange(len(train_nngrams[0]))\n",
    "    #train_index : index des séries de l'ensemble d'apprentissage, y_train: classes des séries de l'ensemble d'apprentissage, indexées par les index des séries\n",
    "    train_index, test_index, y_train, y_test = train_test_split(se, cl,stratify=cl,test_size=0.2) \n",
    "\n",
    "    x_train = list()\n",
    "    x_test = list()\n",
    "    for j in range(len(train_nngrams)): #Chaque item de x_train contiendra pour une vue la liste des histogrammes des séries d'entraînement\n",
    "        x_train.append(train_nngrams[j].iloc[train_index,:].reset_index(drop=True))  \n",
    "    for j in range(len(train_nngrams)):\n",
    "        x_test.append(train_nngrams[j].iloc[test_index,:].reset_index(drop=True))\n",
    "\n",
    "    fitted_estimators, label_encoder = el.fit_multiple_estimators(learners, x_train, y_train.reset_index(drop=True))\n",
    "    y_pred = el.predict_from_multiple_estimator(fitted_estimators, label_encoder, x_test)\n",
    "    score_val = np.round(accuracy_score(y_pred, y_test.reset_index(drop=True)),4)\n",
    "    print(\"SCORE Training VUE N°\",app,\" : \",score_val )\n",
    "    \n",
    "    # Score en test\n",
    "    train_group = train.groupby('Series')\n",
    "    train_classe = train_group['classe'].apply(lambda x : x.iloc[0]).reset_index(drop=True)\n",
    "\n",
    "    test_group = test.groupby('Series')\n",
    "    test_classe = test_group['classe'].apply(lambda x : x.iloc[0]).reset_index(drop=True)\n",
    "\n",
    "    fitted_estimators, label_encoder = el.fit_multiple_estimators(learners, train_nngrams, train_classe)\n",
    "    y_pred = el.predict_from_multiple_estimator(fitted_estimators, label_encoder, test_nngrams)\n",
    "    \n",
    "    score_test = np.round(accuracy_score(y_pred, test_classe),4)\n",
    "    print(\"SCORE TEST: \", score_test)\n",
    "  \n",
    "    \n",
    "    if eval_int < score_val :\n",
    "        eval_int=score_val\n",
    "        eval_fi=score_test\n",
    "        \n",
    "print(\"SCORE FINAL: \", eval_fi)\n",
    "\n",
    "end = timer()\n",
    "print(end - start)"
   ]
  },
  {
   "cell_type": "code",
   "execution_count": null,
   "metadata": {},
   "outputs": [],
   "source": []
  }
 ],
 "metadata": {
  "anaconda-cloud": {},
  "colab": {
   "collapsed_sections": [
    "8HgXCZpPBLrY"
   ],
   "name": "Copie de bigram_ecml_cap (ORiginal).ipynb",
   "provenance": []
  },
  "kernelspec": {
   "display_name": "Python 3",
   "language": "python",
   "name": "python3"
  },
  "language_info": {
   "codemirror_mode": {
    "name": "ipython",
    "version": 3
   },
   "file_extension": ".py",
   "mimetype": "text/x-python",
   "name": "python",
   "nbconvert_exporter": "python",
   "pygments_lexer": "ipython3",
   "version": "3.7.6"
  }
 },
 "nbformat": 4,
 "nbformat_minor": 4
}
